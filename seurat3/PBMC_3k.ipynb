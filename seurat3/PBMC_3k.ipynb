{
 "cells": [
  {
   "cell_type": "markdown",
   "metadata": {},
   "source": [
    "### Setup the Seurat Object\n"
   ]
  },
  {
   "cell_type": "code",
   "execution_count": 2,
   "metadata": {},
   "outputs": [
    {
     "ename": "ERROR",
     "evalue": "Error in Read10X(data.dir = \"../data/pbmc3k/filtered_gene_bc_matrices/hg19/\"): Barcode file missing\n",
     "output_type": "error",
     "traceback": [
      "Error in Read10X(data.dir = \"../data/pbmc3k/filtered_gene_bc_matrices/hg19/\"): Barcode file missing\nTraceback:\n",
      "1. Read10X(data.dir = \"../data/pbmc3k/filtered_gene_bc_matrices/hg19/\")",
      "2. stop(\"Barcode file missing\")"
     ]
    }
   ],
   "source": [
    "require(dplyr)\n",
    "require(Seurat)\n",
    "\n",
    "# Load the PBMC dataset\n",
    "pbmc.data <- Read10X(data.dir = \"../data/pbmc3k/filtered_gene_bc_matrices/hg19/\")\n",
    "# Initialize the Seurat object with the raw (non-normalized data).\n",
    "pbmc <- CreateSeuratObject(counts = pbmc.data, project = \"pbmc3k\", min.cells = 3, min.features = 200)\n",
    "pbmc"
   ]
  },
  {
   "cell_type": "markdown",
   "metadata": {},
   "source": [
    "### Standard pre-processing workflow\n"
   ]
  },
  {
   "cell_type": "code",
   "execution_count": null,
   "metadata": {},
   "outputs": [],
   "source": []
  },
  {
   "cell_type": "code",
   "execution_count": null,
   "metadata": {},
   "outputs": [],
   "source": []
  }
 ],
 "metadata": {
  "kernelspec": {
   "display_name": "R",
   "language": "R",
   "name": "ir"
  },
  "language_info": {
   "codemirror_mode": "r",
   "file_extension": ".r",
   "mimetype": "text/x-r-source",
   "name": "R",
   "pygments_lexer": "r",
   "version": "3.5.1"
  }
 },
 "nbformat": 4,
 "nbformat_minor": 2
}
